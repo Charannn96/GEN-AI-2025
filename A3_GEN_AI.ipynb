{
  "nbformat": 4,
  "nbformat_minor": 0,
  "metadata": {
    "colab": {
      "provenance": [],
      "include_colab_link": true
    },
    "kernelspec": {
      "name": "python3",
      "display_name": "Python 3"
    },
    "language_info": {
      "name": "python"
    }
  },
  "cells": [
    {
      "cell_type": "markdown",
      "metadata": {
        "id": "view-in-github",
        "colab_type": "text"
      },
      "source": [
        "<a href=\"https://colab.research.google.com/github/2303A52490/GENERATIVE-AI/blob/main/A3_GEN_AI.ipynb\" target=\"_parent\"><img src=\"https://colab.research.google.com/assets/colab-badge.svg\" alt=\"Open In Colab\"/></a>"
      ]
    },
    {
      "cell_type": "markdown",
      "source": [
        "1. Minimizing\n",
        "f(x)=5x\n",
        "4\n",
        " +3x\n",
        "2\n",
        " +10"
      ],
      "metadata": {
        "id": "kM4xI5WCAi7_"
      }
    },
    {
      "source": [
        "import numpy as np\n",
        "def gradient_descent_1(learning_rate=0.01, iterations=1000):\n",
        "    x = 0.5\n",
        "    for _ in range(iterations):\n",
        "        grad = 20 * x**3 + 6 * x\n",
        "        x -= learning_rate * grad\n",
        "    return x\n",
        "\n",
        "result = gradient_descent_1()\n",
        "print(\"Minimum value of x:\", result)"
      ],
      "cell_type": "code",
      "metadata": {
        "id": "Ae3DKoyc_moG",
        "outputId": "ada61c69-cc8d-41af-8178-6f118e7b7efb",
        "colab": {
          "base_uri": "https://localhost:8080/"
        }
      },
      "execution_count": null,
      "outputs": [
        {
          "output_type": "stream",
          "name": "stdout",
          "text": [
            "Minimum value of x: 4.810419162406747e-28\n"
          ]
        }
      ]
    },
    {
      "cell_type": "markdown",
      "source": [
        "2. Minimizing\n",
        "g(x,y)=3x\n",
        "2\n",
        " +5e\n",
        "−y\n",
        " +10"
      ],
      "metadata": {
        "id": "RCUE2MDCBYBF"
      }
    },
    {
      "cell_type": "code",
      "source": [
        "import numpy as np\n",
        "def gradient_descent_2(learning_rate=0.01, iterations=1000):\n",
        "    x, y = 0.4, 0.5\n",
        "    for _ in range(iterations):\n",
        "        grad_x = 6 * x\n",
        "        grad_y = -5 * np.exp(-y)\n",
        "        x -= learning_rate * grad_x\n",
        "        y -= learning_rate * grad_y\n",
        "    return x, y\n",
        "\n",
        "result_x, result_y = gradient_descent_2()\n",
        "print(\"Minimum value of x:\", result_x)\n",
        "print(\"Minimum value of y:\", result_y)\n"
      ],
      "metadata": {
        "colab": {
          "base_uri": "https://localhost:8080/"
        },
        "id": "RjD2nzUnBegH",
        "outputId": "e7b19bcf-9fce-40a6-dec7-c5265419a722"
      },
      "execution_count": null,
      "outputs": [
        {
          "output_type": "stream",
          "name": "stdout",
          "text": [
            "Minimum value of x: 1.3423123924933694e-27\n",
            "Minimum value of y: 3.9663707936306642\n"
          ]
        }
      ]
    },
    {
      "cell_type": "markdown",
      "source": [
        "3. Minimizing\n",
        "z(x)= 1/\n",
        "1+e\n",
        "−x\n",
        "\n",
        "\n",
        "​\n"
      ],
      "metadata": {
        "id": "qotNxLTwC7u6"
      }
    },
    {
      "cell_type": "code",
      "source": [
        "import numpy as np\n",
        "def gradient_descent_3(learning_rate=0.01, iterations=1000):\n",
        "    x = 0.6\n",
        "    for _ in range(iterations):\n",
        "        grad = np.exp(-x) / ((1 + np.exp(-x))**2)\n",
        "        x -= learning_rate * grad\n",
        "    return x\n",
        "\n",
        "result = gradient_descent_3()\n",
        "print(\"Minimum value of x:\", result)\n"
      ],
      "metadata": {
        "colab": {
          "base_uri": "https://localhost:8080/"
        },
        "id": "fwz1nMIDDQwX",
        "outputId": "8d7e8ea9-3716-4ce9-8118-8b8bf9cbf6ea"
      },
      "execution_count": null,
      "outputs": [
        {
          "output_type": "stream",
          "name": "stdout",
          "text": [
            "Minimum value of x: -1.5398182201957265\n"
          ]
        }
      ]
    },
    {
      "cell_type": "markdown",
      "source": [
        "4. Minimizing Square Error\n",
        "SE=(ExpectedOutput−PredictedOutput)\n",
        "2"
      ],
      "metadata": {
        "id": "PpKMwy-lDgEi"
      }
    },
    {
      "cell_type": "code",
      "source": [
        "import numpy as np\n",
        "def gradient_descent_4(data, learning_rate=0.01, iterations=1000):\n",
        "    M, C = 0.7, 0.8\n",
        "    for _ in range(iterations):\n",
        "        grad_M, grad_C = 0.0, 0.0\n",
        "        for x, y in data:\n",
        "            error = y - (M * x + C)\n",
        "            grad_M += -2 * x * error\n",
        "            grad_C += -2 * error\n",
        "        M -= learning_rate * grad_M / len(data)\n",
        "        C -= learning_rate * grad_C / len(data)\n",
        "    return M, C\n",
        "\n",
        "data = np.array([(1, 2), (2, 4), (3, 6)])\n",
        "result_M, result_C = gradient_descent_4(data)\n",
        "print(\"Optimal M:\", result_M)\n",
        "print(\"Optimal C:\", result_C)\n"
      ],
      "metadata": {
        "colab": {
          "base_uri": "https://localhost:8080/"
        },
        "id": "nrjQgerqDrGw",
        "outputId": "a1e144c9-26bc-4379-a211-331de7e4f0df"
      },
      "execution_count": null,
      "outputs": [
        {
          "output_type": "stream",
          "name": "stdout",
          "text": [
            "Optimal M: 1.9544413363759314\n",
            "Optimal C: 0.10356555096658464\n"
          ]
        }
      ]
    }
  ]
}