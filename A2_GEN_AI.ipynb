{
  "nbformat": 4,
  "nbformat_minor": 0,
  "metadata": {
    "colab": {
      "provenance": [],
      "include_colab_link": true
    },
    "kernelspec": {
      "name": "python3",
      "display_name": "Python 3"
    },
    "language_info": {
      "name": "python"
    }
  },
  "cells": [
    {
      "cell_type": "markdown",
      "metadata": {
        "id": "view-in-github",
        "colab_type": "text"
      },
      "source": [
        "<a href=\"https://colab.research.google.com/github/2303A52490/GENERATIVE-AI/blob/main/A2_GEN_AI.ipynb\" target=\"_parent\"><img src=\"https://colab.research.google.com/assets/colab-badge.svg\" alt=\"Open In Colab\"/></a>"
      ]
    },
    {
      "cell_type": "markdown",
      "source": [
        "Question 1"
      ],
      "metadata": {
        "id": "JHaPe63vAoiH"
      }
    },
    {
      "cell_type": "code",
      "execution_count": 3,
      "metadata": {
        "id": "uvSx90PP95ge",
        "outputId": "bdb182d0-cde4-4cd5-e966-8c1258643a4a",
        "colab": {
          "base_uri": "https://localhost:8080/"
        }
      },
      "outputs": [
        {
          "output_type": "stream",
          "name": "stdout",
          "text": [
            "Requirement already satisfied: pulp in /usr/local/lib/python3.10/dist-packages (2.9.0)\n",
            "Status: Optimal\n",
            "Number of units of A to produce: 2.0\n",
            "Number of units of B to produce: 3.0\n",
            "Maximum profit: 27.0\n"
          ]
        }
      ],
      "source": [
        "!pip install pulp\n",
        "from pulp import *\n",
        "prob = LpProblem(\"Chocolate_Profit_Maximization\", LpMaximize)\n",
        "A = LpVariable(\"A\", lowBound=0, cat=\"Integer\")\n",
        "B = LpVariable(\"B\", lowBound=0, cat=\"Integer\")\n",
        "prob += 6 * A + 5 * B\n",
        "prob += A + B <= 5\n",
        "prob += 3 * A + 2 * B <= 12\n",
        "status = prob.solve()\n",
        "print(f\"Status: {LpStatus[status]}\")\n",
        "print(f\"Number of units of A to produce: {A.varValue}\")\n",
        "print(f\"Number of units of B to produce: {B.varValue}\")\n",
        "print(f\"Maximum profit: {value(prob.objective)}\")"
      ]
    },
    {
      "cell_type": "markdown",
      "source": [
        "Question 2"
      ],
      "metadata": {
        "id": "iCGKuIJ0Aq_-"
      }
    },
    {
      "cell_type": "code",
      "source": [
        "from pulp import *\n",
        "prob = LpProblem(\"Farmer_Profit_Maximization\", LpMaximize)\n",
        "wheat_acres = LpVariable(\"Wheat_Acres\", lowBound=0, cat=\"Continuous\")\n",
        "barley_acres = LpVariable(\"Barley_Acres\", lowBound=0, cat=\"Continuous\")\n",
        "prob += 50 * wheat_acres + 120 * barley_acres\n",
        "prob += wheat_acres + barley_acres <= 110\n",
        "prob += 7000 * wheat_acres + 2000 * barley_acres <= 7000000\n",
        "prob += 10 * wheat_acres + 30 * barley_acres <= 1200\n",
        "status = prob.solve()\n",
        "print(f\"Status: {LpStatus[status]}\")\n",
        "print(f\"Acres of wheat to plant: {wheat_acres.varValue}\")\n",
        "print(f\"Acres of barley to plant: {barley_acres.varValue}\")\n",
        "print(f\"Maximum profit: {value(prob.objective)}\")"
      ],
      "metadata": {
        "colab": {
          "base_uri": "https://localhost:8080/"
        },
        "id": "6x_OOBo9-_5i",
        "outputId": "5cc0dfda-f054-43f9-d0fb-86090d25463c"
      },
      "execution_count": 2,
      "outputs": [
        {
          "output_type": "stream",
          "name": "stdout",
          "text": [
            "Status: Optimal\n",
            "Acres of wheat to plant: 105.0\n",
            "Acres of barley to plant: 5.0\n",
            "Maximum profit: 5850.0\n"
          ]
        }
      ]
    }
  ]
}